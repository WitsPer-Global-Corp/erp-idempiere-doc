{
 "cells": [
  {
   "cell_type": "code",
   "execution_count": 14,
   "id": "afa42170-2cc3-452d-a5f9-d49899263f57",
   "metadata": {},
   "outputs": [
    {
     "name": "stdout",
     "output_type": "stream",
     "text": [
      "Requirement already satisfied: googletrans==4.0.0-rc1 in d:\\tool\\python\\lib\\site-packages (4.0.0rc1)"
     ]
    },
    {
     "name": "stderr",
     "output_type": "stream",
     "text": [
      "\n",
      "[notice] A new release of pip is available: 23.2.1 -> 25.1.1\n",
      "[notice] To update, run: python.exe -m pip install --upgrade pip\n"
     ]
    },
    {
     "name": "stdout",
     "output_type": "stream",
     "text": [
      "\n",
      "Requirement already satisfied: httpx==0.13.3 in d:\\tool\\python\\lib\\site-packages (from googletrans==4.0.0-rc1) (0.13.3)\n",
      "Requirement already satisfied: certifi in d:\\tool\\python\\lib\\site-packages (from httpx==0.13.3->googletrans==4.0.0-rc1) (2025.4.26)\n",
      "Requirement already satisfied: hstspreload in d:\\tool\\python\\lib\\site-packages (from httpx==0.13.3->googletrans==4.0.0-rc1) (2025.1.1)\n",
      "Requirement already satisfied: sniffio in d:\\tool\\python\\lib\\site-packages (from httpx==0.13.3->googletrans==4.0.0-rc1) (1.3.0)\n",
      "Requirement already satisfied: chardet==3.* in d:\\tool\\python\\lib\\site-packages (from httpx==0.13.3->googletrans==4.0.0-rc1) (3.0.4)\n",
      "Requirement already satisfied: idna==2.* in d:\\tool\\python\\lib\\site-packages (from httpx==0.13.3->googletrans==4.0.0-rc1) (2.10)\n",
      "Requirement already satisfied: rfc3986<2,>=1.3 in d:\\tool\\python\\lib\\site-packages (from httpx==0.13.3->googletrans==4.0.0-rc1) (1.5.0)\n",
      "Requirement already satisfied: httpcore==0.9.* in d:\\tool\\python\\lib\\site-packages (from httpx==0.13.3->googletrans==4.0.0-rc1) (0.9.1)\n",
      "Requirement already satisfied: h11<0.10,>=0.8 in d:\\tool\\python\\lib\\site-packages (from httpcore==0.9.*->httpx==0.13.3->googletrans==4.0.0-rc1) (0.9.0)\n",
      "Requirement already satisfied: h2==3.* in d:\\tool\\python\\lib\\site-packages (from httpcore==0.9.*->httpx==0.13.3->googletrans==4.0.0-rc1) (3.2.0)\n",
      "Requirement already satisfied: hyperframe<6,>=5.2.0 in d:\\tool\\python\\lib\\site-packages (from h2==3.*->httpcore==0.9.*->httpx==0.13.3->googletrans==4.0.0-rc1) (5.2.0)\n",
      "Requirement already satisfied: hpack<4,>=3.0 in d:\\tool\\python\\lib\\site-packages (from h2==3.*->httpcore==0.9.*->httpx==0.13.3->googletrans==4.0.0-rc1) (3.0.0)\n"
     ]
    }
   ],
   "source": [
    "!pip install googletrans==4.0.0-rc1"
   ]
  },
  {
   "cell_type": "code",
   "execution_count": 13,
   "id": "fbd026d5-f8cc-436d-bda7-479e0596e30f",
   "metadata": {},
   "outputs": [
    {
     "name": "stdout",
     "output_type": "stream",
     "text": [
      "✅ 已翻譯：downloading-installer.md\n",
      "✅ 已翻譯：install-prerequisites.md\n",
      "✅ 已翻譯：installing-from-installers.md\n",
      "✅ 已翻譯：post-installation.md\n",
      "✅ 已翻譯：running-idempiere-from-installers.md\n",
      "✅ 已結束\n"
     ]
    }
   ],
   "source": [
    "import os\n",
    "from googletrans import Translator\n",
    "\n",
    "translator = Translator()\n",
    "\n",
    "input_dir = 'D:\\Code\\idempiere-doc\\erp-idempiere-doc\\docs'      # 原始 md 檔資料夾\n",
    "output_dir = 'D:\\Code\\idempiere-doc\\erp-idempiere-doc\\docs-zh'  # 翻譯後儲存目錄\n",
    "\n",
    "input_dir = 'D:\\Code\\idempiere-doc\\erp-idempiere-doc\\docs\\\\basic-development'      # 原始 md 檔資料夾\n",
    "output_dir = 'D:\\Code\\idempiere-doc\\erp-idempiere-doc\\docs-zh\\\\basic-development'  # 翻譯後儲存目錄\n",
    "\n",
    "input_dir = 'D:\\Code\\idempiere-doc\\erp-idempiere-doc\\docs\\\\basic-functional'      # 原始 md 檔資料夾\n",
    "output_dir = 'D:\\Code\\idempiere-doc\\erp-idempiere-doc\\docs-zh\\\\basic-functional'  # 翻譯後儲存目錄\n",
    "\n",
    "input_dir = 'D:\\Code\\idempiere-doc\\erp-idempiere-doc\\docs\\\\basic-installation'      # 原始 md 檔資料夾\n",
    "output_dir = 'D:\\Code\\idempiere-doc\\erp-idempiere-doc\\docs-zh\\\\basic-installation'  # 翻譯後儲存目錄\n",
    "\n",
    "\n",
    "\n",
    "input_dir = 'D:\\Code\\idempiere-doc\\erp-idempiere-doc\\docs-en\\\\basic-installation\\manual-install'      # 原始 md 檔資料夾\n",
    "output_dir = 'D:\\Code\\idempiere-doc\\erp-idempiere-doc\\docs\\\\basic-installation\\manual-install'  # 翻譯後儲存目錄\n",
    "\n",
    "# input_dir = 'D:\\Code\\idempiere-doc\\erp-idempiere-doc\\docs\\\\basic-primers'      # 原始 md 檔資料夾\n",
    "# output_dir = 'D:\\Code\\idempiere-doc\\erp-idempiere-doc\\docs-zh\\\\basic-primers'  # 翻譯後儲存目錄\n",
    "\n",
    "os.makedirs(output_dir, exist_ok=True)\n",
    "\n",
    "\n",
    "def translate_md_content(content):\n",
    "    translated_lines = []\n",
    "    code_block = False\n",
    "    yaml_block = False\n",
    "    buffer = []\n",
    "\n",
    "    lines = content.splitlines(keepends=True)  # 保留換行符號\n",
    "\n",
    "    for line in lines:\n",
    "        stripped = line.strip()\n",
    "\n",
    "        # 保留 YAML frontmatter (如 ---)\n",
    "        if stripped == \"---\":\n",
    "            yaml_block = not yaml_block\n",
    "            translated_lines.append(line)\n",
    "            continue\n",
    "\n",
    "        # 保留程式碼區塊\n",
    "        if stripped.startswith(\"```\"):\n",
    "            code_block = not code_block\n",
    "            translated_lines.append(line)\n",
    "            continue\n",
    "\n",
    "        # 空行直接保留\n",
    "        if stripped == \"\":\n",
    "            translated_lines.append(line)\n",
    "            continue\n",
    "\n",
    "        # 在 YAML 或 code 區塊中，原樣保留\n",
    "        if yaml_block or code_block:\n",
    "            translated_lines.append(line)\n",
    "            continue\n",
    "\n",
    "        # 如果是清單或標題，保留符號，只翻譯後面文字\n",
    "        prefix = \"\"\n",
    "        if line.lstrip().startswith((\"* \", \"- \", \"+ \", \"> \", \"#\")):\n",
    "            parts = line.lstrip().split(\" \", 1)\n",
    "            if len(parts) == 2:\n",
    "                prefix, rest = parts\n",
    "                try:\n",
    "                    translated = translator.translate(rest, src='en', dest='zh-tw').text\n",
    "                    translated_lines.append(line[:len(line)-len(line.lstrip())] + prefix + \" \" + translated + \"\\n\")\n",
    "                except Exception as e:\n",
    "                    print(f\"⚠️ 翻譯清單錯誤: {e}\")\n",
    "                    translated_lines.append(line)\n",
    "            else:\n",
    "                translated_lines.append(line)\n",
    "            continue\n",
    "\n",
    "        # 一般段落\n",
    "        try:\n",
    "            translated = translator.translate(stripped, src='en', dest='zh-tw').text\n",
    "            translated_lines.append(translated + \"\\n\")\n",
    "        except Exception as e:\n",
    "            print(f\"⚠️ 翻譯段落錯誤: {e}\")\n",
    "            translated_lines.append(line)\n",
    "\n",
    "    return \"\".join(translated_lines)\n",
    "\n",
    "# 處理所有 .md 檔\n",
    "for filename in os.listdir(input_dir):\n",
    "    if filename.endswith('.md'):\n",
    "        input_path = os.path.join(input_dir, filename)\n",
    "        output_path = os.path.join(output_dir, filename)\n",
    "\n",
    "        with open(input_path, 'r', encoding='utf-8') as f:\n",
    "            content = f.read()\n",
    "\n",
    "        translated_content = translate_md_content(content)\n",
    "\n",
    "        with open(output_path, 'w', encoding='utf-8') as f:\n",
    "            f.write(translated_content)\n",
    "\n",
    "        print(f\"✅ 已翻譯：{filename}\")\n",
    "print(f\"✅ 已結束\")"
   ]
  },
  {
   "cell_type": "code",
   "execution_count": null,
   "id": "046308d6-0031-4326-8975-603d02e1228c",
   "metadata": {},
   "outputs": [],
   "source": []
  },
  {
   "cell_type": "code",
   "execution_count": null,
   "id": "95dd74f1-525d-4216-aaee-434cd8bd60d8",
   "metadata": {},
   "outputs": [],
   "source": []
  }
 ],
 "metadata": {
  "kernelspec": {
   "display_name": "Python 3 (ipykernel)",
   "language": "python",
   "name": "python3"
  },
  "language_info": {
   "codemirror_mode": {
    "name": "ipython",
    "version": 3
   },
   "file_extension": ".py",
   "mimetype": "text/x-python",
   "name": "python",
   "nbconvert_exporter": "python",
   "pygments_lexer": "ipython3",
   "version": "3.11.6"
  }
 },
 "nbformat": 4,
 "nbformat_minor": 5
}
